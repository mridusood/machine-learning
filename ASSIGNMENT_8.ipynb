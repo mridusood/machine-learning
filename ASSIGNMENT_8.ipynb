{
 "cells": [
  {
   "cell_type": "code",
   "execution_count": 4,
   "metadata": {},
   "outputs": [
    {
     "data": {
      "text/html": [
       "<div>\n",
       "<style scoped>\n",
       "    .dataframe tbody tr th:only-of-type {\n",
       "        vertical-align: middle;\n",
       "    }\n",
       "\n",
       "    .dataframe tbody tr th {\n",
       "        vertical-align: top;\n",
       "    }\n",
       "\n",
       "    .dataframe thead th {\n",
       "        text-align: right;\n",
       "    }\n",
       "</style>\n",
       "<table border=\"1\" class=\"dataframe\">\n",
       "  <thead>\n",
       "    <tr style=\"text-align: right;\">\n",
       "      <th></th>\n",
       "      <th>instant\tdteday\tseason\tyr\tmnth\tholiday\tweekday\tworkingday\tweathersit\ttemp\tatemp\thum\twindspeed\tcasual\tregistered\tcnt</th>\n",
       "    </tr>\n",
       "  </thead>\n",
       "  <tbody>\n",
       "    <tr>\n",
       "      <th>0</th>\n",
       "      <td>1\\t01-01-2011\\t1\\t0\\t1\\t0\\t6\\t0\\t2\\t0.344167\\t...</td>\n",
       "    </tr>\n",
       "    <tr>\n",
       "      <th>1</th>\n",
       "      <td>2\\t02-01-2011\\t1\\t0\\t1\\t0\\t0\\t0\\t2\\t0.363478\\t...</td>\n",
       "    </tr>\n",
       "    <tr>\n",
       "      <th>2</th>\n",
       "      <td>3\\t03-01-2011\\t1\\t0\\t1\\t0\\t1\\t1\\t1\\t0.196364\\t...</td>\n",
       "    </tr>\n",
       "    <tr>\n",
       "      <th>3</th>\n",
       "      <td>4\\t04-01-2011\\t1\\t0\\t1\\t0\\t2\\t1\\t1\\t0.2\\t0.212...</td>\n",
       "    </tr>\n",
       "    <tr>\n",
       "      <th>4</th>\n",
       "      <td>5\\t05-01-2011\\t1\\t0\\t1\\t0\\t3\\t1\\t1\\t0.226957\\t...</td>\n",
       "    </tr>\n",
       "  </tbody>\n",
       "</table>\n",
       "</div>"
      ],
      "text/plain": [
       "  instant\\tdteday\\tseason\\tyr\\tmnth\\tholiday\\tweekday\\tworkingday\\tweathersit\\ttemp\\tatemp\\thum\\twindspeed\\tcasual\\tregistered\\tcnt\n",
       "0  1\\t01-01-2011\\t1\\t0\\t1\\t0\\t6\\t0\\t2\\t0.344167\\t...                                                                               \n",
       "1  2\\t02-01-2011\\t1\\t0\\t1\\t0\\t0\\t0\\t2\\t0.363478\\t...                                                                               \n",
       "2  3\\t03-01-2011\\t1\\t0\\t1\\t0\\t1\\t1\\t1\\t0.196364\\t...                                                                               \n",
       "3  4\\t04-01-2011\\t1\\t0\\t1\\t0\\t2\\t1\\t1\\t0.2\\t0.212...                                                                               \n",
       "4  5\\t05-01-2011\\t1\\t0\\t1\\t0\\t3\\t1\\t1\\t0.226957\\t...                                                                               "
      ]
     },
     "execution_count": 4,
     "metadata": {},
     "output_type": "execute_result"
    }
   ],
   "source": [
    "import pandas as pd\n",
    "import numpy as np\n",
    "df=pd.read_csv('ac.csv')\n",
    "df.head()"
   ]
  },
  {
   "cell_type": "code",
   "execution_count": 5,
   "metadata": {},
   "outputs": [
    {
     "data": {
      "text/html": [
       "<div>\n",
       "<style scoped>\n",
       "    .dataframe tbody tr th:only-of-type {\n",
       "        vertical-align: middle;\n",
       "    }\n",
       "\n",
       "    .dataframe tbody tr th {\n",
       "        vertical-align: top;\n",
       "    }\n",
       "\n",
       "    .dataframe thead th {\n",
       "        text-align: right;\n",
       "    }\n",
       "</style>\n",
       "<table border=\"1\" class=\"dataframe\">\n",
       "  <thead>\n",
       "    <tr style=\"text-align: right;\">\n",
       "      <th></th>\n",
       "      <th>instant\tdteday\tseason\tyr\tmnth\tholiday\tweekday\tworkingday\tweathersit\ttemp\tatemp\thum\twindspeed\tcasual\tregistered\tcnt</th>\n",
       "    </tr>\n",
       "  </thead>\n",
       "  <tbody>\n",
       "    <tr>\n",
       "      <th>count</th>\n",
       "      <td>731</td>\n",
       "    </tr>\n",
       "    <tr>\n",
       "      <th>unique</th>\n",
       "      <td>731</td>\n",
       "    </tr>\n",
       "    <tr>\n",
       "      <th>top</th>\n",
       "      <td>284\\t11-10-2011\\t4\\t0\\t10\\t0\\t2\\t1\\t2\\t0.56666...</td>\n",
       "    </tr>\n",
       "    <tr>\n",
       "      <th>freq</th>\n",
       "      <td>1</td>\n",
       "    </tr>\n",
       "  </tbody>\n",
       "</table>\n",
       "</div>"
      ],
      "text/plain": [
       "       instant\\tdteday\\tseason\\tyr\\tmnth\\tholiday\\tweekday\\tworkingday\\tweathersit\\ttemp\\tatemp\\thum\\twindspeed\\tcasual\\tregistered\\tcnt\n",
       "count                                                 731                                                                               \n",
       "unique                                                731                                                                               \n",
       "top     284\\t11-10-2011\\t4\\t0\\t10\\t0\\t2\\t1\\t2\\t0.56666...                                                                               \n",
       "freq                                                    1                                                                               "
      ]
     },
     "execution_count": 5,
     "metadata": {},
     "output_type": "execute_result"
    }
   ],
   "source": [
    "df.describe()"
   ]
  },
  {
   "cell_type": "code",
   "execution_count": null,
   "metadata": {},
   "outputs": [],
   "source": []
  }
 ],
 "metadata": {
  "kernelspec": {
   "display_name": "Python 3",
   "language": "python",
   "name": "python3"
  },
  "language_info": {
   "codemirror_mode": {
    "name": "ipython",
    "version": 3
   },
   "file_extension": ".py",
   "mimetype": "text/x-python",
   "name": "python",
   "nbconvert_exporter": "python",
   "pygments_lexer": "ipython3",
   "version": "3.6.5"
  }
 },
 "nbformat": 4,
 "nbformat_minor": 2
}
