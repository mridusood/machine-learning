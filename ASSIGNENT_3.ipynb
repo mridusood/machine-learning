{
 "cells": [
  {
   "cell_type": "code",
   "execution_count": 1,
   "metadata": {},
   "outputs": [
    {
     "name": "stdout",
     "output_type": "stream",
     "text": [
      "0.0303030303030303\n"
     ]
    }
   ],
   "source": [
    "#QUESTION 1\n",
    "\n",
    "def conditionalprob(pA,pB,pAB):\n",
    "    pA_B=pB*pAB\n",
    "    pBA=pA_B/pA\n",
    "    return pBA\n",
    "print(conditionalprob(11/36,6/36,2/36))\n"
   ]
  },
  {
   "cell_type": "code",
   "execution_count": 2,
   "metadata": {},
   "outputs": [
    {
     "name": "stdout",
     "output_type": "stream",
     "text": [
      "0.5833333333333334\n"
     ]
    }
   ],
   "source": [
    "#QUESTION 2\n",
    "w1=4\n",
    "b1=6\n",
    "w2=4\n",
    "b2=3\n",
    "\n",
    "p=(0.5*(b1/(w1+b1)))/((0.5*(b1/(w1+b1)))+(0.5*(b2/(w2+b2))))\n",
    "print(p)"
   ]
  },
  {
   "cell_type": "code",
   "execution_count": null,
   "metadata": {},
   "outputs": [],
   "source": []
  }
 ],
 "metadata": {
  "kernelspec": {
   "display_name": "Python 3",
   "language": "python",
   "name": "python3"
  },
  "language_info": {
   "codemirror_mode": {
    "name": "ipython",
    "version": 3
   },
   "file_extension": ".py",
   "mimetype": "text/x-python",
   "name": "python",
   "nbconvert_exporter": "python",
   "pygments_lexer": "ipython3",
   "version": "3.6.5"
  }
 },
 "nbformat": 4,
 "nbformat_minor": 2
}
